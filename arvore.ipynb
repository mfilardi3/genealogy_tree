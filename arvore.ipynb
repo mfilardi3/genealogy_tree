{
 "cells": [
  {
   "cell_type": "code",
   "execution_count": 1,
   "metadata": {},
   "outputs": [],
   "source": [
    "import requests\n",
    "import networkx as nx\n",
    "import pandas as pd"
   ]
  },
  {
   "cell_type": "code",
   "execution_count": 2,
   "metadata": {},
   "outputs": [],
   "source": [
    "#get content in documents \n",
    "def get_content(url):\n",
    "    r = requests.get(url)\n",
    "    content = r.text\n",
    "    return content"
   ]
  },
  {
   "cell_type": "code",
   "execution_count": 3,
   "metadata": {},
   "outputs": [],
   "source": [
    "class Vertice:\n",
    "    #vertice constructor\n",
    "    def __init__(self, name):\n",
    "        self.name = name \n",
    "        self.edges = []\n",
    "        self.visited = False \n",
    "        \n",
    "    #adding an edge \n",
    "    def add_edge(self, vertice):\n",
    "        self.edges.append(vertice)\n",
    "    \n",
    "    #show the vertice \n",
    "    def __repr__(self):\n",
    "        return f'{self.name}'\n",
    "    "
   ]
  },
  {
   "cell_type": "code",
   "execution_count": 4,
   "metadata": {},
   "outputs": [],
   "source": [
    "class Graph:\n",
    "    #initialize the graph\n",
    "    def __init__(self):\n",
    "        self.vertices = {}\n",
    "        \n",
    "        \n",
    "    #adding a vertice\n",
    "    def add_vertice(self, vertice):\n",
    "        self.vertices[vertice] = Vertice(vertice)\n",
    "        \n",
    "        \n",
    "    #creating an edge \n",
    "    def add_edge(self, vert1, vert2):\n",
    "        vertice1 = self.vertices[vert1]\n",
    "        vertice2 = self.vertices[vert2]\n",
    "        vertice1.add_edge(vertice2)\n",
    "        vertice2.add_edge(vertice1)\n",
    "        \n",
    "    #bfs search for graph\n",
    "    def bfs(self, vertice):\n",
    "        queue = []\n",
    "        queue.append(self.vertices[vertice])\n",
    "        \n",
    "        while queue:\n",
    "            vertice = queue.pop()\n",
    "            \n",
    "            for vert in vertice.edges:\n",
    "                if vert.visited == False:\n",
    "                    queue.append(vert)\n",
    "                    vert.visited = True\n",
    "\n",
    "        \n",
    "    #show the adjacency list\n",
    "    def __repr__(self):\n",
    "        for _, vertice in self.vertices.items():\n",
    "            print(f'{vertice.name}: {vertice.edges}')\n",
    "        return ''"
   ]
  },
  {
   "cell_type": "code",
   "execution_count": 5,
   "metadata": {},
   "outputs": [],
   "source": [
    "#show the graph \n",
    "def show(vertices, edges):\n",
    "    G = nx.Graph()\n",
    "    G.add_nodes_from(vertices)\n",
    "        \n",
    "    for edge in edges:\n",
    "        G.add_edge(edge[0], edge[1])\n",
    "        \n",
    "    nx.draw(G, with_labels=True)"
   ]
  },
  {
   "cell_type": "code",
   "execution_count": 6,
   "metadata": {},
   "outputs": [],
   "source": [
    "def test(url):\n",
    "    #extracting data from url\n",
    "    text = get_content(url)\n",
    "    text = text.split('\\r\\n')\n",
    "    text = text[1:]\n",
    "    \n",
    "    #getting vertices and edges from url text\n",
    "    vertices = []\n",
    "    edges = []\n",
    "    for relation in text:\n",
    "        list_ = relation.split(' ')\n",
    "        vertices.append(list_[0])\n",
    "        vertices.append(list_[2])\n",
    "        edge = [list_[0], list_[2]]\n",
    "        edges.append(edge)\n",
    "    vertices = list(dict.fromkeys(vertices))\n",
    "    \n",
    "    #initializating the graph\n",
    "    graph = Graph()\n",
    "    \n",
    "    #adding vertices to the graph\n",
    "    for vertice in vertices:\n",
    "        graph.add_vertice(vertice)\n",
    "    \n",
    "    #adding edges to the graph \n",
    "    for edge in edges:\n",
    "        graph.add_edge(edge[0], edge[1])\n",
    "    \n",
    "    #calculating family numbers by bfs search\n",
    "    conexos = 0\n",
    "    \n",
    "    for v in graph.vertices:\n",
    "        if graph.vertices[v].visited == True:\n",
    "            continue\n",
    "        else:\n",
    "            graph.bfs(v)\n",
    "            conexos = conexos + 1 \n",
    "    \n",
    "    print('Numero de familias:\\n')\n",
    "    print(conexos)\n",
    "\n",
    "    #showing the graph\n",
    "    show(vertices, edges)\n",
    "    \n",
    "    #adding relations and number of families to dataframe\n",
    "    df = pd.DataFrame(text)\n",
    "    df.columns = ['Relations']\n",
    "    df.loc['Conexos'] = conexos\n",
    "    \n",
    "    #importing dataframe to a csv file\n",
    "    f = open('arvore' + str(conexos) + '.csv', 'w')\n",
    "    df.to_csv(f, header=True, index=True)\n",
    "    f.close"
   ]
  },
  {
   "cell_type": "code",
   "execution_count": 7,
   "metadata": {},
   "outputs": [
    {
     "name": "stdout",
     "output_type": "stream",
     "text": [
      "Numero de familias:\n",
      "\n",
      "2\n"
     ]
    },
    {
     "data": {
      "image/png": "[encoded data removed]",
      "text/plain": [
       "<Figure size 432x288 with 1 Axes>"
      ]
     },
     "metadata": {},
     "output_type": "display_data"
    }
   ],
   "source": [
    "test('https://pastebin.com/raw/fa3ZNXtz')"
   ]
  },
  {
   "cell_type": "code",
   "execution_count": 8,
   "metadata": {},
   "outputs": [
    {
     "name": "stdout",
     "output_type": "stream",
     "text": [
      "Numero de familias:\n",
      "\n",
      "3\n"
     ]
    },
    {
     "data": {
      "image/png": "[encoded data removed]",
      "text/plain": [
       "<Figure size 432x288 with 1 Axes>"
      ]
     },
     "metadata": {},
     "output_type": "display_data"
    }
   ],
   "source": [
    "test('https://pastebin.com/raw/99PbjZr4')"
   ]
  },
  {
   "cell_type": "code",
   "execution_count": null,
   "metadata": {},
   "outputs": [],
   "source": []
  }
 ],
 "metadata": {
  "kernelspec": {
   "display_name": "Python 3",
   "language": "python",
   "name": "python3"
  },
  "language_info": {
   "codemirror_mode": {
    "name": "ipython",
    "version": 3
   },
   "file_extension": ".py",
   "mimetype": "text/x-python",
   "name": "python",
   "nbconvert_exporter": "python",
   "pygments_lexer": "ipython3",
   "version": "3.8.5"
  }
 },
 "nbformat": 4,
 "nbformat_minor": 4
}
